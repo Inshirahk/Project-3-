{
 "cells": [
  {
   "cell_type": "code",
   "execution_count": 1,
   "id": "da348694-6cfe-4000-b321-32974fe9c003",
   "metadata": {},
   "outputs": [],
   "source": [
    "import pandas as pd\n",
    "import json"
   ]
  },
  {
   "cell_type": "code",
   "execution_count": 2,
   "id": "df519d5a-2061-4acd-918b-c21e8db35afb",
   "metadata": {},
   "outputs": [
    {
     "name": "stdout",
     "output_type": "stream",
     "text": [
      "      data_as_of  death_year  death_month jurisdiction_occurrence  \\\n",
      "0     2025-01-05        2019            1           United States   \n",
      "1     2025-01-05        2019            1           United States   \n",
      "2     2025-01-05        2019            1           United States   \n",
      "3     2025-01-05        2019            1           United States   \n",
      "4     2025-01-05        2019            1           United States   \n",
      "...          ...         ...          ...                     ...   \n",
      "5077  2025-01-05        2024            2               Region 10   \n",
      "5078  2025-01-05        2024            3               Region 10   \n",
      "5079  2025-01-05        2024            4               Region 10   \n",
      "5080  2025-01-05        2024            5               Region 10   \n",
      "5081  2025-01-05        2024            6               Region 10   \n",
      "\n",
      "        drug_involved month_ending_date  drug_overdose_deaths  \n",
      "0             Cocaine        2019-01-31               15613.0  \n",
      "1            Fentanyl        2019-01-31               30367.0  \n",
      "2          Gabapentin        2019-01-31                1935.0  \n",
      "3              Heroin        2019-01-31               15475.0  \n",
      "4     Methamphetamine        2019-01-31               12059.0  \n",
      "...               ...               ...                   ...  \n",
      "5077       Gabapentin        2024-02-29                 203.0  \n",
      "5078       Gabapentin        2024-03-31                 207.0  \n",
      "5079       Gabapentin        2024-04-30                 206.0  \n",
      "5080       Gabapentin        2024-05-31                 217.0  \n",
      "5081       Gabapentin        2024-06-30                 213.0  \n",
      "\n",
      "[5082 rows x 7 columns]\n"
     ]
    }
   ],
   "source": [
    "# Load the dataset\n",
    "csv_file = 'data/PDOD_specific_cleaned.csv'\n",
    "df = pd.read_csv(csv_file)\n",
    "print(df)"
   ]
  },
  {
   "cell_type": "code",
   "execution_count": 3,
   "id": "222d5ca1-2d79-4668-9d9a-a4dfba34b8e4",
   "metadata": {},
   "outputs": [],
   "source": [
    "# Exclude \"United States\" totals\n",
    "df = df[df[\"jurisdiction_occurrence\"] != \"United States\"]"
   ]
  },
  {
   "cell_type": "code",
   "execution_count": 4,
   "id": "b6132865-2b12-4fe0-9d55-b39a0727c2cf",
   "metadata": {},
   "outputs": [],
   "source": [
    "# Select relevant columns\n",
    "df = df[[\"death_year\", \"jurisdiction_occurrence\", \"drug_involved\", \"drug_overdose_deaths\"]]"
   ]
  },
  {
   "cell_type": "code",
   "execution_count": 5,
   "id": "a976f7cd-02ce-4b33-9652-21f440d68368",
   "metadata": {},
   "outputs": [],
   "source": [
    "# Convert to dictionary\n",
    "data = df.to_dict(orient=\"records\")"
   ]
  },
  {
   "cell_type": "code",
   "execution_count": 6,
   "id": "556c3f52-e15b-4997-a30d-d303c2b287f6",
   "metadata": {},
   "outputs": [
    {
     "name": "stdout",
     "output_type": "stream",
     "text": [
      "Data successfully converted to JSON: data.json\n"
     ]
    }
   ],
   "source": [
    "# Save as JSON\n",
    "with open(\"data.json\", \"w\") as json_file:\n",
    "    json.dump(data, json_file, indent=4)\n",
    "\n",
    "print(\"Data successfully converted to JSON: data.json\")"
   ]
  },
  {
   "cell_type": "code",
   "execution_count": 7,
   "id": "e7c2f8fe-a00c-4b02-aa11-81536b7f9229",
   "metadata": {},
   "outputs": [
    {
     "name": "stdout",
     "output_type": "stream",
     "text": [
      "Current working directory: C:\\Users\\fitse\\OneDrive\\Desktop\\JavaScript 2\n"
     ]
    }
   ],
   "source": [
    "import os\n",
    "print(\"Current working directory:\", os.getcwd())\n"
   ]
  },
  {
   "cell_type": "code",
   "execution_count": null,
   "id": "4cf30066-0c18-4d67-8ea6-aec2727848ea",
   "metadata": {},
   "outputs": [],
   "source": []
  }
 ],
 "metadata": {
  "kernelspec": {
   "display_name": "fitenv",
   "language": "python",
   "name": "python3"
  },
  "language_info": {
   "codemirror_mode": {
    "name": "ipython",
    "version": 3
   },
   "file_extension": ".py",
   "mimetype": "text/x-python",
   "name": "python",
   "nbconvert_exporter": "python",
   "pygments_lexer": "ipython3",
   "version": "3.10.15"
  }
 },
 "nbformat": 4,
 "nbformat_minor": 5
}
