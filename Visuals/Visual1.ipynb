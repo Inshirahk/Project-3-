{
 "cells": [
  {
   "cell_type": "code",
   "execution_count": 28,
   "id": "8852b25a-0049-4048-adf5-544b5a2f018f",
   "metadata": {},
   "outputs": [],
   "source": [
    "import pandas as pd\n",
    "import plotly.express as px\n",
    "import os\n",
    "import json\n",
    "import requests"
   ]
  },
  {
   "cell_type": "code",
   "execution_count": 135,
   "id": "e63df1d3-b060-4f4e-b4dc-837f2481e3b4",
   "metadata": {},
   "outputs": [
    {
     "name": "stdout",
     "output_type": "stream",
     "text": [
      "      data_as_of  death_year  death_month jurisdiction_occurrence  \\\n",
      "0     2025-01-05        2019            1           United States   \n",
      "1     2025-01-05        2019            1           United States   \n",
      "2     2025-01-05        2019            1           United States   \n",
      "3     2025-01-05        2019            1           United States   \n",
      "4     2025-01-05        2019            1           United States   \n",
      "...          ...         ...          ...                     ...   \n",
      "5077  2025-01-05        2024            2               Region 10   \n",
      "5078  2025-01-05        2024            3               Region 10   \n",
      "5079  2025-01-05        2024            4               Region 10   \n",
      "5080  2025-01-05        2024            5               Region 10   \n",
      "5081  2025-01-05        2024            6               Region 10   \n",
      "\n",
      "        drug_involved month_ending_date  drug_overdose_deaths  \n",
      "0             Cocaine        2019-01-31               15613.0  \n",
      "1            Fentanyl        2019-01-31               30367.0  \n",
      "2          Gabapentin        2019-01-31                1935.0  \n",
      "3              Heroin        2019-01-31               15475.0  \n",
      "4     Methamphetamine        2019-01-31               12059.0  \n",
      "...               ...               ...                   ...  \n",
      "5077       Gabapentin        2024-02-29                 203.0  \n",
      "5078       Gabapentin        2024-03-31                 207.0  \n",
      "5079       Gabapentin        2024-04-30                 206.0  \n",
      "5080       Gabapentin        2024-05-31                 217.0  \n",
      "5081       Gabapentin        2024-06-30                 213.0  \n",
      "\n",
      "[5082 rows x 7 columns]\n"
     ]
    }
   ],
   "source": [
    "# Load the dataset\n",
    "csv_file = '../data/PDOD_specific_cleaned.csv'\n",
    "pdod_df = pd.read_csv(csv_file)\n",
    "print(pdod_df)"
   ]
  },
  {
   "cell_type": "code",
   "execution_count": 141,
   "id": "1b72fa41-c9f6-42e9-a2ad-2f1279b17090",
   "metadata": {},
   "outputs": [
    {
     "data": {
      "text/html": [
       "\n",
       "        <iframe\n",
       "            width=\"100%\"\n",
       "            height=\"650\"\n",
       "            src=\"http://127.0.0.1:8050/\"\n",
       "            frameborder=\"0\"\n",
       "            allowfullscreen\n",
       "            \n",
       "        ></iframe>\n",
       "        "
      ],
      "text/plain": [
       "<IPython.lib.display.IFrame at 0x25ed6d0bb30>"
      ]
     },
     "metadata": {},
     "output_type": "display_data"
    }
   ],
   "source": [
    "# Load the dataset\n",
    "pdod_df = pd.read_csv(file_path)\n",
    "\n",
    "# Exclude US totals\n",
    "df = df[df['jurisdiction_occurrence'] != 'United States']\n",
    "\n",
    "# Aggregate overdose deaths per year, jurisdiction, and drug type\n",
    "annual_deaths = df.groupby(['death_year', 'jurisdiction_occurrence', 'drug_involved'])['drug_overdose_deaths'].sum().reset_index()\n",
    "\n",
    "# Initialize Dash app\n",
    "app = Dash(__name__)\n",
    "\n",
    "app.layout = html.Div([\n",
    "    html.H1(\"Overdose Deaths by Year, Jurisdiction, and Drug Type (2019-2024)\"),\n",
    "    dcc.Dropdown(\n",
    "        id='drug-filter',\n",
    "        options=[{'label': drug, 'value': drug} for drug in annual_deaths['drug_involved'].unique()],\n",
    "        value=annual_deaths['drug_involved'].unique()[0],\n",
    "        clearable=False,\n",
    "        style={'width': '50%'}\n",
    "    ),\n",
    "    dcc.Graph(id='overdose-chart')\n",
    "])\n",
    "\n",
    "@app.callback(\n",
    "    Output('overdose-chart', 'figure'),\n",
    "    Input('drug-filter', 'value')\n",
    ")\n",
    "def update_chart(selected_drug):\n",
    "    filtered_df = annual_deaths[annual_deaths['drug_involved'] == selected_drug]\n",
    "    fig = px.bar(\n",
    "        filtered_df,\n",
    "        x=\"death_year\",\n",
    "        y=\"drug_overdose_deaths\",\n",
    "        color=\"jurisdiction_occurrence\",\n",
    "        labels={\"death_year\": \"Year\", \"drug_overdose_deaths\": \"Overdose Deaths\"},\n",
    "        barmode=\"group\",\n",
    "        hover_data={\"drug_overdose_deaths\": True, \"jurisdiction_occurrence\": True}\n",
    "    )\n",
    "    return fig\n",
    "\n",
    "# Run the app\n",
    "if __name__ == '__main__':\n",
    "    app.run_server(debug=True)\n"
   ]
  },
  {
   "cell_type": "code",
   "execution_count": null,
   "id": "fbf79fc7-f96d-4e33-a5d4-bc53d585ae86",
   "metadata": {},
   "outputs": [],
   "source": []
  }
 ],
 "metadata": {
  "kernelspec": {
   "display_name": "Python 3 (ipykernel)",
   "language": "python",
   "name": "python3"
  },
  "language_info": {
   "codemirror_mode": {
    "name": "ipython",
    "version": 3
   },
   "file_extension": ".py",
   "mimetype": "text/x-python",
   "name": "python",
   "nbconvert_exporter": "python",
   "pygments_lexer": "ipython3",
   "version": "3.12.4"
  }
 },
 "nbformat": 4,
 "nbformat_minor": 5
}
