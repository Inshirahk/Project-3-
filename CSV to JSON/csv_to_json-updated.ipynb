{
 "cells": [
  {
   "cell_type": "code",
   "execution_count": 5,
   "id": "da348694-6cfe-4000-b321-32974fe9c003",
   "metadata": {},
   "outputs": [],
   "source": [
    "import pandas as pd"
   ]
  },
  {
   "cell_type": "code",
   "execution_count": 7,
   "id": "df519d5a-2061-4acd-918b-c21e8db35afb",
   "metadata": {},
   "outputs": [
    {
     "name": "stdout",
     "output_type": "stream",
     "text": [
      "JSON file saved as updated_file.json\n"
     ]
    }
   ],
   "source": [
    "# Load CSV file\n",
    "csv_file = \"data/updated_file.csv\"  # Update this path if needed\n",
    "json_file = \"updated_file.json\"\n",
    "\n",
    "# Read the CSV and convert to JSON\n",
    "df = pd.read_csv(csv_file)\n",
    "df.to_json(json_file, orient=\"records\", indent=4)\n",
    "\n",
    "print(f\"JSON file saved as {json_file}\")\n"
   ]
  },
  {
   "cell_type": "code",
   "execution_count": null,
   "id": "222d5ca1-2d79-4668-9d9a-a4dfba34b8e4",
   "metadata": {},
   "outputs": [],
   "source": [
    "# # Exclude \"United States\" totals\n",
    "# df = df[df[\"jurisdiction_occurrence\"] != \"United States\"]"
   ]
  },
  {
   "cell_type": "code",
   "execution_count": null,
   "id": "b6132865-2b12-4fe0-9d55-b39a0727c2cf",
   "metadata": {},
   "outputs": [],
   "source": [
    "# # Select relevant columns\n",
    "# df = df[[\"death_year\", \"jurisdiction_occurrence\", \"drug_involved\", \"drug_overdose_deaths\"]]"
   ]
  },
  {
   "cell_type": "code",
   "execution_count": null,
   "id": "a976f7cd-02ce-4b33-9652-21f440d68368",
   "metadata": {},
   "outputs": [],
   "source": [
    "# Convert to dictionary\n",
    "# data2 = df.to_dict(orient=\"records\")"
   ]
  },
  {
   "cell_type": "code",
   "execution_count": null,
   "id": "556c3f52-e15b-4997-a30d-d303c2b287f6",
   "metadata": {},
   "outputs": [],
   "source": [
    "# Save as JSON\n",
    "# with open(\"data2.json\", \"w\") as json_file:\n",
    "#     json.dump(data2, json_file, indent=4)\n",
    "\n",
    "# print(\"Data successfully converted to JSON: data.json\")"
   ]
  },
  {
   "cell_type": "code",
   "execution_count": null,
   "id": "e7c2f8fe-a00c-4b02-aa11-81536b7f9229",
   "metadata": {},
   "outputs": [],
   "source": [
    "# import os\n",
    "# print(\"Current working directory:\", os.getcwd())\n"
   ]
  },
  {
   "cell_type": "code",
   "execution_count": null,
   "id": "4cf30066-0c18-4d67-8ea6-aec2727848ea",
   "metadata": {},
   "outputs": [],
   "source": []
  }
 ],
 "metadata": {
  "kernelspec": {
   "display_name": "Python 3 (ipykernel)",
   "language": "python",
   "name": "python3"
  },
  "language_info": {
   "codemirror_mode": {
    "name": "ipython",
    "version": 3
   },
   "file_extension": ".py",
   "mimetype": "text/x-python",
   "name": "python",
   "nbconvert_exporter": "python",
   "pygments_lexer": "ipython3",
   "version": "3.12.4"
  }
 },
 "nbformat": 4,
 "nbformat_minor": 5
}
