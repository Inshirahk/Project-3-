{
 "cells": [
  {
   "cell_type": "code",
   "execution_count": 1,
   "id": "6391754f-aa2f-49ef-b9b3-90fa7cbe625e",
   "metadata": {},
   "outputs": [],
   "source": [
    "import pandas as pd\n",
    "import re"
   ]
  },
  {
   "cell_type": "code",
   "execution_count": 10,
   "id": "3adb158c-84f1-4329-8da1-b0e5246ce900",
   "metadata": {},
   "outputs": [],
   "source": [
    "# Load the CSV file\n",
    "file_path = r'C:\\Users\\khati\\OneDrive\\Documents\\VSRR_Provisional_Drug_Overdose_Death_Counts_20250128.csv'\n",
    "df = pd.read_csv(file_path)"
   ]
  },
  {
   "cell_type": "code",
   "execution_count": 14,
   "id": "2a6617c1-94d1-4e34-8247-158128d487a1",
   "metadata": {},
   "outputs": [
    {
     "name": "stdout",
     "output_type": "stream",
     "text": [
      "File loaded successfully.\n"
     ]
    }
   ],
   "source": [
    "# Load the CSV file\n",
    "df = pd.read_csv(file_path)\n",
    "print(\"File loaded successfully.\")"
   ]
  },
  {
   "cell_type": "code",
   "execution_count": 15,
   "id": "d6ddadfb-3a8b-4e1a-b657-cd4538430c0d",
   "metadata": {},
   "outputs": [],
   "source": [
    "# Rename the 'Indicator' column to 'Drug Type'\n",
    "df.rename(columns={'Indicator': 'Drug Type'}, inplace=True)"
   ]
  },
  {
   "cell_type": "code",
   "execution_count": 16,
   "id": "5074924c-8cf1-434d-b944-98e3927fdf42",
   "metadata": {},
   "outputs": [],
   "source": [
    "# Function to remove parentheses from strings\n",
    "def remove_parentheses(text):\n",
    "    return re.sub(r'\\(.*?\\)', '', text)"
   ]
  },
  {
   "cell_type": "code",
   "execution_count": 17,
   "id": "9afd555c-ee02-4553-a020-189b93954fdd",
   "metadata": {},
   "outputs": [
    {
     "name": "stderr",
     "output_type": "stream",
     "text": [
      "C:\\Users\\khati\\AppData\\Local\\Temp\\ipykernel_11664\\3200792974.py:2: FutureWarning: DataFrame.applymap has been deprecated. Use DataFrame.map instead.\n",
      "  df = df.applymap(lambda x: remove_parentheses(x) if isinstance(x, str) else x)\n"
     ]
    }
   ],
   "source": [
    "# Apply the remove_parentheses function to all string columns\n",
    "df = df.applymap(lambda x: remove_parentheses(x) if isinstance(x, str) else x)"
   ]
  },
  {
   "cell_type": "code",
   "execution_count": 19,
   "id": "82ddcb58-42e5-44cd-8bb2-9363f85a1f46",
   "metadata": {},
   "outputs": [],
   "source": [
    "# Convert any percentage columns to whole numbers (handling NaN values)\n",
    "for col in df.columns:\n",
    "    if df[col].dtype == 'float64':  # Check if the column has float values\n",
    "        # Apply rounding, but leave NaN values unchanged\n",
    "        df[col] = df[col].apply(lambda x: round(x) if pd.notna(x) else x)"
   ]
  },
  {
   "cell_type": "code",
   "execution_count": 20,
   "id": "9a4adb7c-f574-4a40-a8a6-3f2cea68c6b8",
   "metadata": {},
   "outputs": [],
   "source": [
    "# Save the updated CSV\n",
    "df.to_csv('updated_file.csv', index=False)"
   ]
  },
  {
   "cell_type": "code",
   "execution_count": 21,
   "id": "6cf41deb-5ec7-467f-acc9-e336cea76e31",
   "metadata": {},
   "outputs": [
    {
     "name": "stdout",
     "output_type": "stream",
     "text": [
      "CSV updated successfully.\n"
     ]
    }
   ],
   "source": [
    "print(\"CSV updated successfully.\")"
   ]
  },
  {
   "cell_type": "code",
   "execution_count": null,
   "id": "bae9c860-22d3-4c84-83ee-e15401fb01f7",
   "metadata": {},
   "outputs": [],
   "source": []
  }
 ],
 "metadata": {
  "kernelspec": {
   "display_name": "Python 3 (ipykernel)",
   "language": "python",
   "name": "python3"
  },
  "language_info": {
   "codemirror_mode": {
    "name": "ipython",
    "version": 3
   },
   "file_extension": ".py",
   "mimetype": "text/x-python",
   "name": "python",
   "nbconvert_exporter": "python",
   "pygments_lexer": "ipython3",
   "version": "3.12.4"
  }
 },
 "nbformat": 4,
 "nbformat_minor": 5
}
